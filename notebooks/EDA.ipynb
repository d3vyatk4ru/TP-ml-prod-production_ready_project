{
  "cells": [
    {
      "cell_type": "code",
      "execution_count": 24,
      "metadata": {
        "id": "1gIewyMA1oCY"
      },
      "outputs": [],
      "source": [
        "import pandas as pd\n",
        "import matplotlib.pyplot as plt\n",
        "import seaborn as sns\n",
        "\n",
        "import warnings\n",
        "warnings.filterwarnings('ignore')"
      ]
    },
    {
      "cell_type": "code",
      "execution_count": null,
      "metadata": {
        "colab": {
          "base_uri": "https://localhost:8080/",
          "height": 206
        },
        "id": "L8h75uN8AG_Q",
        "outputId": "1962af32-92e1-450a-c4ed-9a3bcae4b436"
      },
      "outputs": [],
      "source": [
        "df = pd.read_csv('/content/drive/MyDrive/ml-prod/heart_cleveland_upload.csv')\n",
        "df.head(5)"
      ]
    },
    {
      "cell_type": "code",
      "execution_count": 14,
      "metadata": {
        "id": "Lu1TQYURDVkB"
      },
      "outputs": [],
      "source": [
        "continuous_feature = ['age', 'trestbps', 'chol', 'thalach', 'oldpeak']\n",
        "categorical_features = list(set(df.columns) - set(continuous_feature))"
      ]
    },
    {
      "cell_type": "code",
      "execution_count": null,
      "metadata": {
        "colab": {
          "base_uri": "https://localhost:8080/"
        },
        "id": "IIWr030xJHeS",
        "outputId": "0087c037-e63f-41ff-d0a4-1e7e165ddca8"
      },
      "outputs": [],
      "source": [
        "df.info()"
      ]
    },
    {
      "cell_type": "markdown",
      "metadata": {
        "id": "-RKFHkH0IeHm"
      },
      "source": [
        "#### Распределение для непрерывных признаков"
      ]
    },
    {
      "cell_type": "code",
      "execution_count": null,
      "metadata": {
        "colab": {
          "base_uri": "https://localhost:8080/",
          "height": 497
        },
        "id": "jhbkrshuD_i-",
        "outputId": "8b2be861-274f-4698-a1f4-3a7446413e7a"
      },
      "outputs": [],
      "source": [
        "fig, ax = plt.subplots(2, 3, figsize=(13, 8))\n",
        "\n",
        "ax_array = [axis for row in ax for axis in row] \n",
        "\n",
        "for axis, feature in zip(ax_array, continuous_feature):\n",
        "    sns.distplot(df[feature], ax=axis);"
      ]
    },
    {
      "cell_type": "markdown",
      "metadata": {
        "id": "ixgZ1wR5JAjv"
      },
      "source": [
        "#### Распределение для категориальных признаков"
      ]
    },
    {
      "cell_type": "code",
      "execution_count": null,
      "metadata": {
        "colab": {
          "base_uri": "https://localhost:8080/",
          "height": 592
        },
        "id": "HEJMewlaF6LX",
        "outputId": "e1f527f8-578a-419c-bbef-b50cecbf64e7"
      },
      "outputs": [],
      "source": [
        "fig, ax = plt.subplots(3, 3, figsize=(13, 10))\n",
        "\n",
        "ax_array = [axis for row in ax for axis in row] \n",
        "\n",
        "for axis, feature in zip(ax_array, categorical_features):\n",
        "    df[feature].hist(ax=axis)"
      ]
    },
    {
      "cell_type": "code",
      "execution_count": null,
      "metadata": {
        "colab": {
          "base_uri": "https://localhost:8080/",
          "height": 920
        },
        "id": "xpDZd9gaJKM8",
        "outputId": "f0cd4c3a-5600-406d-f60b-d706866a3dd7"
      },
      "outputs": [],
      "source": [
        "sns.pairplot(df, vars = continuous_feature, hue='condition')"
      ]
    },
    {
      "cell_type": "markdown",
      "metadata": {
        "id": "GlASCng3C-cq"
      },
      "source": [
        "#### Смотрим корреляционную матрицу"
      ]
    },
    {
      "cell_type": "code",
      "execution_count": null,
      "metadata": {
        "colab": {
          "base_uri": "https://localhost:8080/",
          "height": 884
        },
        "id": "WLmZZu4IAxRA",
        "outputId": "521f1f81-ed0b-4d3d-857f-9c9089325e95"
      },
      "outputs": [],
      "source": [
        "fig, ax = plt.subplots(figsize=(15,15)) \n",
        "sns.heatmap(df.corr(), annot=True, ax=ax)"
      ]
    }
  ],
  "metadata": {
    "colab": {
      "collapsed_sections": [],
      "name": "EDA.ipynb",
      "provenance": []
    },
    "kernelspec": {
      "display_name": "Python 3",
      "name": "python3"
    },
    "language_info": {
      "name": "python"
    }
  },
  "nbformat": 4,
  "nbformat_minor": 0
}
